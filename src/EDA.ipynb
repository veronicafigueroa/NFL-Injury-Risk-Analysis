{
 "cells": [
  {
   "cell_type": "markdown",
   "metadata": {},
   "source": [
    "## Dataset Preprocessing"
   ]
  },
  {
   "cell_type": "code",
   "execution_count": 1,
   "metadata": {},
   "outputs": [],
   "source": [
    "import pandas as pd\n",
    "import numpy as np\n",
    "import matplotlib.pyplot as plt"
   ]
  },
  {
   "cell_type": "markdown",
   "metadata": {},
   "source": [
    "loading in csv files"
   ]
  },
  {
   "cell_type": "code",
   "execution_count": null,
   "metadata": {},
   "outputs": [],
   "source": [
    "injuries_df = pd.read_csv('C:/Users/lalaf/OneDrive/Brown/Fall2024/Data1030/NFL-Injury-Risk-Analysis/data/InjuryRecord.csv')\n",
    "plays_df = pd.read_csv('C:/Users/lalaf/OneDrive/Brown/Fall2024/Data1030/NFL-Injury-Risk-Analysis/data/PlayList.csv')"
   ]
  },
  {
   "cell_type": "markdown",
   "metadata": {},
   "source": [
    "creating one df with \"true/false\" injury column"
   ]
  },
  {
   "cell_type": "code",
   "execution_count": 23,
   "metadata": {},
   "outputs": [
    {
     "name": "stdout",
     "output_type": "stream",
     "text": [
      "<bound method NDFrame.head of         PlayerKey    GameID      PlayKey RosterPosition  PlayerDay  \\\n",
      "0           26624   26624-1    26624-1-1    Quarterback          1   \n",
      "1           26624   26624-1    26624-1-2    Quarterback          1   \n",
      "2           26624   26624-1    26624-1-3    Quarterback          1   \n",
      "3           26624   26624-1    26624-1-4    Quarterback          1   \n",
      "4           26624   26624-1    26624-1-5    Quarterback          1   \n",
      "...           ...       ...          ...            ...        ...   \n",
      "267000      47888  47888-13  47888-13-51     Cornerback         99   \n",
      "267001      47888  47888-13  47888-13-52     Cornerback         99   \n",
      "267002      47888  47888-13  47888-13-53     Cornerback         99   \n",
      "267003      47888  47888-13  47888-13-54     Cornerback         99   \n",
      "267004      47888  47888-13  47888-13-55     Cornerback         99   \n",
      "\n",
      "        PlayerGame StadiumType  FieldType  Temperature         Weather  \\\n",
      "0                1     Outdoor  Synthetic           63  Clear and warm   \n",
      "1                1     Outdoor  Synthetic           63  Clear and warm   \n",
      "2                1     Outdoor  Synthetic           63  Clear and warm   \n",
      "3                1     Outdoor  Synthetic           63  Clear and warm   \n",
      "4                1     Outdoor  Synthetic           63  Clear and warm   \n",
      "...            ...         ...        ...          ...             ...   \n",
      "267000          13     Outdoor  Synthetic           33  Sunny and cold   \n",
      "267001          13     Outdoor  Synthetic           33  Sunny and cold   \n",
      "267002          13     Outdoor  Synthetic           33  Sunny and cold   \n",
      "267003          13     Outdoor  Synthetic           33  Sunny and cold   \n",
      "267004          13     Outdoor  Synthetic           33  Sunny and cold   \n",
      "\n",
      "       PlayType  PlayerGamePlay Position PositionGroup  InjuryStatus  \n",
      "0          Pass               1       QB            QB         False  \n",
      "1          Pass               2       QB            QB         False  \n",
      "2          Rush               3       QB            QB         False  \n",
      "3          Rush               4       QB            QB         False  \n",
      "4          Pass               5       QB            QB         False  \n",
      "...         ...             ...      ...           ...           ...  \n",
      "267000     Pass              51       DB            DB         False  \n",
      "267001     Pass              52       DB            DB         False  \n",
      "267002     Pass              53       DB            DB         False  \n",
      "267003     Pass              54       DB            DB         False  \n",
      "267004     Rush              55       DB            DB         False  \n",
      "\n",
      "[267005 rows x 15 columns]>\n"
     ]
    }
   ],
   "source": [
    "# injuries_df.head\n",
    "# plays_df.head\n",
    "\n",
    "injury_plays = plays_df.copy()\n",
    "injury_plays['InjuryStatus'] = [key in list(injuries_df['PlayKey']) for key in injury_plays['PlayKey']]\n",
    "\n",
    "print(injury_plays.head)\n",
    "\n",
    "injury_plays.to_csv('Injury_Plays.csv', index=False)"
   ]
  },
  {
   "cell_type": "markdown",
   "metadata": {},
   "source": [
    "**Visualization**"
   ]
  },
  {
   "cell_type": "code",
   "execution_count": 17,
   "metadata": {},
   "outputs": [
    {
     "name": "stdout",
     "output_type": "stream",
     "text": [
      "        PlayerKey    GameID      PlayKey RosterPosition  PlayerDay  \\\n",
      "7162        31070   31070-1    31070-1-1   Running Back          1   \n",
      "7163        31070   31070-1    31070-1-2   Running Back          1   \n",
      "7164        31070   31070-1    31070-1-3   Running Back          1   \n",
      "7165        31070   31070-1    31070-1-4   Running Back          1   \n",
      "7166        31070   31070-1    31070-1-5   Running Back          1   \n",
      "...           ...       ...          ...            ...        ...   \n",
      "266372      47813  47813-11  47813-11-61     Cornerback        113   \n",
      "266373      47813  47813-11  47813-11-62     Cornerback        113   \n",
      "266374      47813  47813-11  47813-11-63     Cornerback        113   \n",
      "266375      47813  47813-11  47813-11-64     Cornerback        113   \n",
      "266376      47813  47813-11  47813-11-65     Cornerback        113   \n",
      "\n",
      "        PlayerGame       StadiumType  FieldType  Temperature Weather PlayType  \\\n",
      "7162             1          Outdoors    Natural           67   Sunny     Punt   \n",
      "7163             1          Outdoors    Natural           67   Sunny     Pass   \n",
      "7164             1          Outdoors    Natural           67   Sunny     Pass   \n",
      "7165             1          Outdoors    Natural           67   Sunny     Pass   \n",
      "7166             1          Outdoors    Natural           67   Sunny     Pass   \n",
      "...            ...               ...        ...          ...     ...      ...   \n",
      "266372          11  Retractable Roof  Synthetic           46   Rainy     Pass   \n",
      "266373          11  Retractable Roof  Synthetic           46   Rainy     Pass   \n",
      "266374          11  Retractable Roof  Synthetic           46   Rainy     Rush   \n",
      "266375          11  Retractable Roof  Synthetic           46   Rainy     Rush   \n",
      "266376          11  Retractable Roof  Synthetic           46   Rainy     Rush   \n",
      "\n",
      "        PlayerGamePlay Position PositionGroup  \n",
      "7162                 1       RB            RB  \n",
      "7163                 2       RB            RB  \n",
      "7164                 3       RB            RB  \n",
      "7165                 4       RB            RB  \n",
      "7166                 5       RB            RB  \n",
      "...                ...      ...           ...  \n",
      "266372              61       CB            DB  \n",
      "266373              62       CB            DB  \n",
      "266374              63       CB            DB  \n",
      "266375              64       CB            DB  \n",
      "266376              65       CB            DB  \n",
      "\n",
      "[89749 rows x 14 columns]\n",
      "        PlayerKey   GameID    PlayKey RosterPosition  PlayerDay  PlayerGame  \\\n",
      "7162        31070  31070-1  31070-1-1   Running Back          1           1   \n",
      "8578        31933  31933-1  31933-1-1      Tight End          1           1   \n",
      "10612       33337  33337-1  33337-1-1      Tight End          1           1   \n",
      "11402       33474  33474-1  33474-1-1         Safety          1           1   \n",
      "17208       34347  34347-1  34347-1-1  Wide Receiver          1           1   \n",
      "...           ...      ...        ...            ...        ...         ...   \n",
      "260844      47287  47287-1  47287-1-1  Wide Receiver          1           1   \n",
      "262025      47307  47307-1  47307-1-1     Cornerback          1           1   \n",
      "263224      47334  47334-1  47334-1-1         Safety          1           1   \n",
      "264311      47382  47382-1  47382-1-1     Linebacker          1           1   \n",
      "266092      47813  47813-1  47813-1-1     Cornerback          1           1   \n",
      "\n",
      "       StadiumType  FieldType  Temperature            Weather  \\\n",
      "7162      Outdoors    Natural           67              Sunny   \n",
      "8578      Outdoors    Natural           67              Sunny   \n",
      "10612      Outdoor    Natural           87              Clear   \n",
      "11402     Outdoors    Natural           67              Sunny   \n",
      "17208      Outdoor    Natural           76              Clear   \n",
      "...            ...        ...          ...                ...   \n",
      "260844     Outdoor    Natural           58               Rain   \n",
      "262025     Outdoor    Natural           81             Cloudy   \n",
      "263224     Outdoor    Natural           89  Scattered Showers   \n",
      "264311     Outdoor    Natural           81             Cloudy   \n",
      "266092         NaN  Synthetic           59               Rain   \n",
      "\n",
      "                    PlayType  PlayerGamePlay Position PositionGroup  \n",
      "7162                    Punt               1       RB            RB  \n",
      "8578                    Pass               1       TE            TE  \n",
      "10612                   Rush               1       TE            TE  \n",
      "11402                Kickoff               1       FS            DB  \n",
      "17208                Kickoff               1       WR            WR  \n",
      "...                      ...             ...      ...           ...  \n",
      "260844     Punt Not Returned               1       WR            WR  \n",
      "262025  Kickoff Not Returned               1       CB            DB  \n",
      "263224      Kickoff Returned               1       DB            DB  \n",
      "264311  Kickoff Not Returned               1       LB            LB  \n",
      "266092      Kickoff Returned               1       CB            DB  \n",
      "\n",
      "[100 rows x 14 columns]\n"
     ]
    },
    {
     "data": {
      "image/png": "[encoded data removed]",
      "text/plain": [
       "<Figure size 800x600 with 1 Axes>"
      ]
     },
     "metadata": {},
     "output_type": "display_data"
    }
   ],
   "source": [
    "# Get subset dataframe of only injured players' plays\n",
    "play_data_subset = plays_df[plays_df['PlayerKey'].isin(injuries_df['PlayerKey'])]\n",
    "print(play_data_subset)\n",
    "\n",
    "# Eliminate duplicates - not looking for play chronology atm; want position of each injured player\n",
    "play_data_subset = play_data_subset.drop_duplicates(subset=['PlayerKey'])\n",
    "print(play_data_subset)\n",
    "\n",
    "# Get positions of those 100 injured players\n",
    "pos_counts = play_data_subset['Position'].value_counts()\n",
    "plt.figure(figsize=(8, 6))\n",
    "bars = pos_counts.plot(kind='bar', color=['lightseagreen'])\n",
    "plt.title('Injuries per Position', fontsize=16)\n",
    "plt.xlabel('Player Position', fontsize=12)\n",
    "plt.ylabel('Count', fontsize=12)\n",
    "plt.xticks(rotation=0)\n",
    "plt.grid(axis='y', linestyle='--', alpha=0.7)\n",
    "\n",
    "# Add annotations above each bar\n",
    "for i, count in enumerate(pos_counts):\n",
    "    plt.text(i, count + 0.1, str(count), ha='center', va='bottom')\n",
    "\n",
    "plt.tight_layout()\n",
    "plt.show()\n"
   ]
  },
  {
   "cell_type": "code",
   "execution_count": 30,
   "metadata": {},
   "outputs": [
    {
     "name": "stdout",
     "output_type": "stream",
     "text": [
      "count    267005.000000\n",
      "mean        -35.029535\n",
      "std         304.583110\n",
      "min        -999.000000\n",
      "25%          44.000000\n",
      "50%          61.000000\n",
      "75%          72.000000\n",
      "max          97.000000\n",
      "Name: Temperature, dtype: float64\n"
     ]
    }
   ],
   "source": [
    "print(injury_plays['Temperature'].describe())\n",
    "\n"
   ]
  },
  {
   "cell_type": "code",
   "execution_count": 29,
   "metadata": {},
   "outputs": [
    {
     "data": {
      "image/png": "[encoded data removed]",
      "text/plain": [
       "<Figure size 500x300 with 1 Axes>"
      ]
     },
     "metadata": {},
     "output_type": "display_data"
    }
   ],
   "source": [
    "dataset = [injury_plays[injury_plays['InjuryStatus']==True]['Temperature'].values,\n",
    "           injury_plays[injury_plays['InjuryStatus']==False]['Temperature'].values]\n",
    "\n",
    "plt.figure(figsize=(5,3))\n",
    "\n",
    "plt.violinplot(dataset=dataset)\n",
    "plt.show()"
   ]
  }
 ],
 "metadata": {
  "kernelspec": {
   "display_name": "data1030",
   "language": "python",
   "name": "python3"
  },
  "language_info": {
   "codemirror_mode": {
    "name": "ipython",
    "version": 3
   },
   "file_extension": ".py",
   "mimetype": "text/x-python",
   "name": "python",
   "nbconvert_exporter": "python",
   "pygments_lexer": "ipython3",
   "version": "3.12.5"
  }
 },
 "nbformat": 4,
 "nbformat_minor": 2
}
